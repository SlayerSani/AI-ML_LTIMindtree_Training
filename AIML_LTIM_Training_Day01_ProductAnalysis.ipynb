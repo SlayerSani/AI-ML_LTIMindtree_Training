{
  "nbformat": 4,
  "nbformat_minor": 0,
  "metadata": {
    "colab": {
      "private_outputs": true,
      "provenance": []
    },
    "kernelspec": {
      "name": "python3",
      "display_name": "Python 3"
    },
    "language_info": {
      "name": "python"
    }
  },
  "cells": [
    {
      "cell_type": "code",
      "execution_count": null,
      "metadata": {
        "id": "SVvRhERG1zYy"
      },
      "outputs": [],
      "source": [
        "# import numpy as np;\n",
        "# import pandas as pd;\n",
        "# df=pd.read_csv(\"https://raw.githubusercontent.com/Premalatha-success/Datasets/refs/heads/main/CardioGoodFitness-1.csv\");\n",
        "\n",
        "\n",
        "# Data into Decisisons\n",
        "# numpy\n",
        "# pandas\n",
        "# matplotlib\n",
        "# seaborn\n",
        "\n",
        "import numpy as np\n",
        "import pandas as pd\n",
        "import matplotlib.pyplot as plt\n",
        "import seaborn as sns\n",
        "df=pd.read_csv(\"https://raw.githubusercontent.com/Premalatha-success/Datasets/refs/heads/main/CardioGoodFitness-1.csv\")"
      ]
    },
    {
      "cell_type": "code",
      "source": [
        "df.head(7)"
      ],
      "metadata": {
        "collapsed": true,
        "id": "TaHYF2z-8UTm"
      },
      "execution_count": null,
      "outputs": []
    },
    {
      "cell_type": "code",
      "source": [
        "df.tail(7)"
      ],
      "metadata": {
        "collapsed": true,
        "id": "XwxsrWoM8zl5"
      },
      "execution_count": null,
      "outputs": []
    },
    {
      "cell_type": "code",
      "source": [
        "df.sample()"
      ],
      "metadata": {
        "collapsed": true,
        "id": "p-TKEJN89FTG"
      },
      "execution_count": null,
      "outputs": []
    },
    {
      "cell_type": "code",
      "source": [
        "df.shape"
      ],
      "metadata": {
        "id": "kN_Jo8ta-J-m"
      },
      "execution_count": null,
      "outputs": []
    },
    {
      "cell_type": "code",
      "source": [
        "df.dtypes"
      ],
      "metadata": {
        "collapsed": true,
        "id": "rDu9XS-Q-T0t"
      },
      "execution_count": null,
      "outputs": []
    },
    {
      "cell_type": "code",
      "source": [
        "df.info()"
      ],
      "metadata": {
        "collapsed": true,
        "id": "urhGSd-t-j14"
      },
      "execution_count": null,
      "outputs": []
    },
    {
      "cell_type": "code",
      "source": [
        "df.describe()"
      ],
      "metadata": {
        "collapsed": true,
        "id": "I-FAh4zh-0ne"
      },
      "execution_count": null,
      "outputs": []
    },
    {
      "cell_type": "code",
      "source": [
        "df.describe(include=\"all\")"
      ],
      "metadata": {
        "collapsed": true,
        "id": "zMMfWfTT_Ij9"
      },
      "execution_count": null,
      "outputs": []
    },
    {
      "cell_type": "code",
      "source": [
        "sns.countplot(x=\"Product\", data=df)"
      ],
      "metadata": {
        "collapsed": true,
        "id": "4FzaUBOQAiqV"
      },
      "execution_count": null,
      "outputs": []
    },
    {
      "cell_type": "code",
      "source": [
        "df[\"Product\"].value_counts()"
      ],
      "metadata": {
        "collapsed": true,
        "id": "tvPCmU9bBHuR"
      },
      "execution_count": null,
      "outputs": []
    },
    {
      "cell_type": "code",
      "source": [
        "sns.countplot(x=\"Gender\",data=df)"
      ],
      "metadata": {
        "collapsed": true,
        "id": "WFRYeZzcBmY9"
      },
      "execution_count": null,
      "outputs": []
    },
    {
      "cell_type": "code",
      "source": [
        "sns.countplot(x=\"MaritalStatus\",data=df)"
      ],
      "metadata": {
        "collapsed": true,
        "id": "42dfM3RlBvwr"
      },
      "execution_count": null,
      "outputs": []
    },
    {
      "cell_type": "code",
      "source": [
        "sns.countplot(x=\"Product\",hue=\"Gender\",data=df)"
      ],
      "metadata": {
        "collapsed": true,
        "id": "DOHBOzAqCCba"
      },
      "execution_count": null,
      "outputs": []
    },
    {
      "cell_type": "code",
      "source": [
        "sns.countplot(x=\"Product\",hue=\"MaritalStatus\",data=df)"
      ],
      "metadata": {
        "collapsed": true,
        "id": "ex3yessiCzaU"
      },
      "execution_count": null,
      "outputs": []
    },
    {
      "cell_type": "code",
      "source": [
        "df.hist(figsize=(10,10))\n",
        "plt.show"
      ],
      "metadata": {
        "collapsed": true,
        "id": "FRd9o2XXI7yj"
      },
      "execution_count": null,
      "outputs": []
    },
    {
      "cell_type": "code",
      "source": [
        "sns.boxenplot(x=\"Age\",data=df)"
      ],
      "metadata": {
        "collapsed": true,
        "id": "DGavWfraJ2aq"
      },
      "execution_count": null,
      "outputs": []
    },
    {
      "cell_type": "code",
      "source": [
        "sns.boxenplot(y=\"Age\",data=df)"
      ],
      "metadata": {
        "collapsed": true,
        "id": "4TMFd06YKLgd"
      },
      "execution_count": null,
      "outputs": []
    },
    {
      "cell_type": "code",
      "source": [
        "sns.boxenplot(x=\"Education\",data=df)"
      ],
      "metadata": {
        "collapsed": true,
        "id": "IWMNURCSKQ80"
      },
      "execution_count": null,
      "outputs": []
    },
    {
      "cell_type": "code",
      "source": [
        "sns.boxenplot(x=\"Income\",data=df)"
      ],
      "metadata": {
        "collapsed": true,
        "id": "jjnWWInDLq4K"
      },
      "execution_count": null,
      "outputs": []
    },
    {
      "cell_type": "code",
      "source": [
        "sns.boxenplot(x=\"Usage\",data=df)"
      ],
      "metadata": {
        "collapsed": true,
        "id": "Ar_Xv1adL5-M"
      },
      "execution_count": null,
      "outputs": []
    },
    {
      "cell_type": "code",
      "source": [
        "sns.boxenplot(x=\"Fitness\",data=df)"
      ],
      "metadata": {
        "collapsed": true,
        "id": "HKLmKeNrL_Jg"
      },
      "execution_count": null,
      "outputs": []
    },
    {
      "cell_type": "code",
      "source": [
        "sns.boxenplot(x=\"Miles\",data=df)"
      ],
      "metadata": {
        "collapsed": true,
        "id": "OEhc1b0eMGBw"
      },
      "execution_count": null,
      "outputs": []
    },
    {
      "cell_type": "code",
      "source": [
        "### Product by Age\n",
        "sns.boxplot(x=\"Product\", y=\"Age\", data=df)"
      ],
      "metadata": {
        "collapsed": true,
        "id": "BIF1TA1sNK0D"
      },
      "execution_count": null,
      "outputs": []
    },
    {
      "cell_type": "code",
      "source": [
        "### Product by Education\n",
        "sns.boxplot(x=\"Product\", y=\"Education\", data=df)"
      ],
      "metadata": {
        "collapsed": true,
        "id": "iTjbHUCMN97c"
      },
      "execution_count": null,
      "outputs": []
    },
    {
      "cell_type": "code",
      "source": [
        "### Product by Usage\n",
        "sns.boxplot(x=\"Product\", y=\"Usage\", data=df)"
      ],
      "metadata": {
        "collapsed": true,
        "id": "4v_Sx1r7OIFi"
      },
      "execution_count": null,
      "outputs": []
    },
    {
      "cell_type": "code",
      "source": [
        "### Product by Fitness\n",
        "sns.boxplot(x=\"Product\", y=\"Fitness\", data=df)"
      ],
      "metadata": {
        "collapsed": true,
        "id": "LNqw_ayoOgTX"
      },
      "execution_count": null,
      "outputs": []
    },
    {
      "cell_type": "code",
      "source": [
        "### Product by Miles\n",
        "sns.boxplot(x=\"Product\", y=\"Miles\", data=df)"
      ],
      "metadata": {
        "collapsed": true,
        "id": "_rUM-6gXOwg4"
      },
      "execution_count": null,
      "outputs": []
    },
    {
      "cell_type": "code",
      "source": [
        "### Product by Income\n",
        "sns.boxplot(x=\"Product\", y=\"Income\", data=df)"
      ],
      "metadata": {
        "collapsed": true,
        "id": "ckrc9AFGPC-F"
      },
      "execution_count": null,
      "outputs": []
    },
    {
      "cell_type": "code",
      "source": [
        "### Histogram (Numerical - one column at a time)\n",
        "### Countplot (Categorical - one(x), two(x,hue))\n",
        "### Boxplot (Numerical - one(x), category vs num(x,y))"
      ],
      "metadata": {
        "id": "stZhj04PPPW_"
      },
      "execution_count": null,
      "outputs": []
    },
    {
      "cell_type": "code",
      "source": [
        "sns.violinplot(x=\"Product\",y=\"Age\",data=df)"
      ],
      "metadata": {
        "collapsed": true,
        "id": "T-MdN1FDP2DY"
      },
      "execution_count": null,
      "outputs": []
    },
    {
      "cell_type": "code",
      "source": [
        "sns.swarmplot(x=\"Product\",y=\"Age\",data=df)"
      ],
      "metadata": {
        "collapsed": true,
        "id": "5vUYKIBhQT1j"
      },
      "execution_count": null,
      "outputs": []
    },
    {
      "cell_type": "code",
      "source": [
        "sns.boxenplot(x=\"Product\",y=\"Age\",hue=\"Gender\",data=df)"
      ],
      "metadata": {
        "collapsed": true,
        "id": "Tojggf3XQ9Jb"
      },
      "execution_count": null,
      "outputs": []
    },
    {
      "cell_type": "code",
      "source": [
        "sns.boxenplot(x=\"Product\",y=\"Age\",hue=\"Fitness\",data=df)"
      ],
      "metadata": {
        "collapsed": true,
        "id": "DzMMuPZKRhJA"
      },
      "execution_count": null,
      "outputs": []
    }
  ]
}