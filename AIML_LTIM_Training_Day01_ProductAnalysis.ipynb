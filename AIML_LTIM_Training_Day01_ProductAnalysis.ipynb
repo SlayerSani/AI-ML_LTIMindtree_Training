{
  "nbformat": 4,
  "nbformat_minor": 0,
  "metadata": {
    "colab": {
      "private_outputs": true,
      "provenance": []
    },
    "kernelspec": {
      "name": "python3",
      "display_name": "Python 3"
    },
    "language_info": {
      "name": "python"
    }
  },
  "cells": [
    {
      "cell_type": "code",
      "execution_count": null,
      "metadata": {
        "id": "SVvRhERG1zYy"
      },
      "outputs": [],
      "source": [
        "# import numpy as np;\n",
        "# import pandas as pd;\n",
        "# df=pd.read_csv(\"https://raw.githubusercontent.com/Premalatha-success/Datasets/refs/heads/main/CardioGoodFitness-1.csv\");\n",
        "\n",
        "\n",
        "# Data into Decisisons\n",
        "# numpy\n",
        "# pandas\n",
        "# matplotlib\n",
        "# seaborn\n",
        "\n",
        "import numpy as np\n",
        "import pandas as pd\n",
        "import matplotlib.pyplot as plt\n",
        "import seaborn as sns\n",
        "df=pd.read_csv(\"https://raw.githubusercontent.com/Premalatha-success/Datasets/refs/heads/main/CardioGoodFitness-1.csv\")"
      ]
    },
    {
      "cell_type": "code",
      "source": [
        "df.head(7)"
      ],
      "metadata": {
        "collapsed": true,
        "id": "TaHYF2z-8UTm"
      },
      "execution_count": null,
      "outputs": []
    },
    {
      "cell_type": "code",
      "source": [
        "df.tail(7)"
      ],
      "metadata": {
        "collapsed": true,
        "id": "XwxsrWoM8zl5"
      },
      "execution_count": null,
      "outputs": []
    },
    {
      "cell_type": "code",
      "source": [
        "df.sample()"
      ],
      "metadata": {
        "collapsed": true,
        "id": "p-TKEJN89FTG"
      },
      "execution_count": null,
      "outputs": []
    },
    {
      "cell_type": "code",
      "source": [
        "df.shape"
      ],
      "metadata": {
        "id": "kN_Jo8ta-J-m",
        "collapsed": true
      },
      "execution_count": null,
      "outputs": []
    },
    {
      "cell_type": "code",
      "source": [
        "df.dtypes"
      ],
      "metadata": {
        "collapsed": true,
        "id": "rDu9XS-Q-T0t"
      },
      "execution_count": null,
      "outputs": []
    },
    {
      "cell_type": "code",
      "source": [
        "df.info()"
      ],
      "metadata": {
        "collapsed": true,
        "id": "urhGSd-t-j14"
      },
      "execution_count": null,
      "outputs": []
    },
    {
      "cell_type": "code",
      "source": [
        "df.describe()"
      ],
      "metadata": {
        "collapsed": true,
        "id": "I-FAh4zh-0ne"
      },
      "execution_count": null,
      "outputs": []
    },
    {
      "cell_type": "code",
      "source": [
        "df.describe(include=\"all\")"
      ],
      "metadata": {
        "collapsed": true,
        "id": "zMMfWfTT_Ij9"
      },
      "execution_count": null,
      "outputs": []
    },
    {
      "cell_type": "code",
      "source": [
        "sns.countplot(x=\"Product\", data=df)"
      ],
      "metadata": {
        "collapsed": true,
        "id": "4FzaUBOQAiqV"
      },
      "execution_count": null,
      "outputs": []
    },
    {
      "cell_type": "code",
      "source": [
        "df[\"Product\"].value_counts()"
      ],
      "metadata": {
        "collapsed": true,
        "id": "tvPCmU9bBHuR"
      },
      "execution_count": null,
      "outputs": []
    },
    {
      "cell_type": "code",
      "source": [
        "sns.countplot(x=\"Gender\",data=df)"
      ],
      "metadata": {
        "collapsed": true,
        "id": "WFRYeZzcBmY9"
      },
      "execution_count": null,
      "outputs": []
    },
    {
      "cell_type": "code",
      "source": [
        "sns.countplot(x=\"MaritalStatus\",data=df)"
      ],
      "metadata": {
        "collapsed": true,
        "id": "42dfM3RlBvwr"
      },
      "execution_count": null,
      "outputs": []
    },
    {
      "cell_type": "code",
      "source": [
        "sns.countplot(x=\"Product\",hue=\"Gender\",data=df)"
      ],
      "metadata": {
        "collapsed": true,
        "id": "DOHBOzAqCCba"
      },
      "execution_count": null,
      "outputs": []
    },
    {
      "cell_type": "code",
      "source": [
        "sns.countplot(x=\"Product\",hue=\"MaritalStatus\",data=df)"
      ],
      "metadata": {
        "collapsed": true,
        "id": "ex3yessiCzaU"
      },
      "execution_count": null,
      "outputs": []
    },
    {
      "cell_type": "code",
      "source": [
        "df.hist(figsize=(10,10))\n",
        "plt.show"
      ],
      "metadata": {
        "collapsed": true,
        "id": "FRd9o2XXI7yj"
      },
      "execution_count": null,
      "outputs": []
    },
    {
      "cell_type": "code",
      "source": [
        "sns.boxenplot(x=\"Age\",data=df)"
      ],
      "metadata": {
        "collapsed": true,
        "id": "DGavWfraJ2aq"
      },
      "execution_count": null,
      "outputs": []
    },
    {
      "cell_type": "code",
      "source": [
        "sns.boxenplot(y=\"Age\",data=df)"
      ],
      "metadata": {
        "collapsed": true,
        "id": "4TMFd06YKLgd"
      },
      "execution_count": null,
      "outputs": []
    },
    {
      "cell_type": "code",
      "source": [
        "sns.boxenplot(x=\"Education\",data=df)"
      ],
      "metadata": {
        "collapsed": true,
        "id": "IWMNURCSKQ80"
      },
      "execution_count": null,
      "outputs": []
    },
    {
      "cell_type": "code",
      "source": [
        "sns.boxenplot(x=\"Income\",data=df)"
      ],
      "metadata": {
        "collapsed": true,
        "id": "jjnWWInDLq4K"
      },
      "execution_count": null,
      "outputs": []
    },
    {
      "cell_type": "code",
      "source": [
        "sns.boxenplot(x=\"Usage\",data=df)"
      ],
      "metadata": {
        "collapsed": true,
        "id": "Ar_Xv1adL5-M"
      },
      "execution_count": null,
      "outputs": []
    },
    {
      "cell_type": "code",
      "source": [
        "sns.boxenplot(x=\"Fitness\",data=df)"
      ],
      "metadata": {
        "collapsed": true,
        "id": "HKLmKeNrL_Jg"
      },
      "execution_count": null,
      "outputs": []
    },
    {
      "cell_type": "code",
      "source": [
        "sns.boxenplot(x=\"Miles\",data=df)"
      ],
      "metadata": {
        "collapsed": true,
        "id": "OEhc1b0eMGBw"
      },
      "execution_count": null,
      "outputs": []
    },
    {
      "cell_type": "code",
      "source": [
        "### Product by Age\n",
        "sns.boxplot(x=\"Product\", y=\"Age\", data=df)"
      ],
      "metadata": {
        "collapsed": true,
        "id": "BIF1TA1sNK0D"
      },
      "execution_count": null,
      "outputs": []
    },
    {
      "cell_type": "code",
      "source": [
        "### Product by Education\n",
        "sns.boxplot(x=\"Product\", y=\"Education\", data=df)"
      ],
      "metadata": {
        "collapsed": true,
        "id": "iTjbHUCMN97c"
      },
      "execution_count": null,
      "outputs": []
    },
    {
      "cell_type": "code",
      "source": [
        "### Product by Usage\n",
        "sns.boxplot(x=\"Product\", y=\"Usage\", data=df)"
      ],
      "metadata": {
        "collapsed": true,
        "id": "4v_Sx1r7OIFi"
      },
      "execution_count": null,
      "outputs": []
    },
    {
      "cell_type": "code",
      "source": [
        "### Product by Fitness\n",
        "sns.boxplot(x=\"Product\", y=\"Fitness\", data=df)"
      ],
      "metadata": {
        "collapsed": true,
        "id": "LNqw_ayoOgTX"
      },
      "execution_count": null,
      "outputs": []
    },
    {
      "cell_type": "code",
      "source": [
        "### Product by Miles\n",
        "sns.boxplot(x=\"Product\", y=\"Miles\", data=df)"
      ],
      "metadata": {
        "collapsed": true,
        "id": "_rUM-6gXOwg4"
      },
      "execution_count": null,
      "outputs": []
    },
    {
      "cell_type": "code",
      "source": [
        "### Product by Income\n",
        "sns.boxplot(x=\"Product\", y=\"Income\", data=df)"
      ],
      "metadata": {
        "collapsed": true,
        "id": "ckrc9AFGPC-F"
      },
      "execution_count": null,
      "outputs": []
    },
    {
      "cell_type": "code",
      "source": [
        "### Histogram (Numerical - one column at a time)\n",
        "### Countplot (Categorical - one(x), two(x,hue))\n",
        "### Boxplot (Numerical - one(x), category vs num(x,y))"
      ],
      "metadata": {
        "id": "stZhj04PPPW_"
      },
      "execution_count": null,
      "outputs": []
    },
    {
      "cell_type": "code",
      "source": [
        "sns.violinplot(x=\"Product\",y=\"Age\",data=df)"
      ],
      "metadata": {
        "collapsed": true,
        "id": "T-MdN1FDP2DY"
      },
      "execution_count": null,
      "outputs": []
    },
    {
      "cell_type": "code",
      "source": [
        "sns.swarmplot(x=\"Product\",y=\"Age\",data=df)"
      ],
      "metadata": {
        "collapsed": true,
        "id": "5vUYKIBhQT1j"
      },
      "execution_count": null,
      "outputs": []
    },
    {
      "cell_type": "code",
      "source": [
        "sns.boxenplot(x=\"Product\",y=\"Age\",hue=\"Gender\",data=df)"
      ],
      "metadata": {
        "collapsed": true,
        "id": "Tojggf3XQ9Jb"
      },
      "execution_count": null,
      "outputs": []
    },
    {
      "cell_type": "code",
      "source": [
        "sns.boxenplot(x=\"Product\",y=\"Age\",hue=\"Fitness\",data=df)"
      ],
      "metadata": {
        "collapsed": true,
        "id": "DzMMuPZKRhJA"
      },
      "execution_count": null,
      "outputs": []
    },
    {
      "cell_type": "code",
      "source": [
        "df.corr(numeric_only=True)\n",
        "sns.pairplot(df)"
      ],
      "metadata": {
        "collapsed": true,
        "id": "dlPNGaWXzhL1"
      },
      "execution_count": null,
      "outputs": []
    },
    {
      "cell_type": "code",
      "source": [
        "df.groupby('Product')['Income'].sum().plot(kind='area', stacked=True)\n",
        "plt.title('Total Income by Product')\n",
        "plt.xlabel('Product')\n",
        "plt.ylabel('Total Income')\n",
        "plt.show()"
      ],
      "metadata": {
        "id": "8lrXQoCQ0zgp"
      },
      "execution_count": null,
      "outputs": []
    },
    {
      "cell_type": "code",
      "metadata": {
        "id": "922b5ba6"
      },
      "source": [
        "import altair as alt\n",
        "\n",
        "# Calculate the percentage of income for each product\n",
        "df_percentage = df.groupby('Product')['Income'].sum().reset_index()\n",
        "df_percentage['Percentage'] = df_percentage['Income'] / df_percentage['Income'].sum()\n",
        "\n",
        "# Create the interactive stacked area chart\n",
        "chart = alt.Chart(df_percentage).mark_area().encode(\n",
        "    x=alt.X('Product', axis=None),\n",
        "    y=alt.Y('Percentage', stack='normalize', axis=alt.Axis(format='%')),\n",
        "    color='Product',\n",
        "    tooltip=['Product', alt.Tooltip('Income', format=','), alt.Tooltip('Percentage', format='.1%')]\n",
        ").properties(\n",
        "    title='Percentage of Total Income by Product'\n",
        ").interactive()\n",
        "\n",
        "chart"
      ],
      "execution_count": null,
      "outputs": []
    },
    {
      "cell_type": "markdown",
      "metadata": {
        "id": "5f8ac192"
      },
      "source": [
        "# Task\n",
        "Analyze the income distribution based on age, gender, and fitness level using the dataset from \"https://raw.githubusercontent.com/Premalatha-success/Datasets/refs/heads/main/CardioGoodFitness-1.csv\"."
      ]
    },
    {
      "cell_type": "markdown",
      "metadata": {
        "id": "a04fe0b1"
      },
      "source": [
        "## Visualize income distribution by age and gender\n",
        "\n",
        "### Subtask:\n",
        "Create visualizations to show how income varies with age for different genders.\n"
      ]
    },
    {
      "cell_type": "markdown",
      "metadata": {
        "id": "3da01ac0"
      },
      "source": [
        "**Reasoning**:\n",
        "Create a scatter plot to visualize the relationship between Age and Income, colored by Gender.\n",
        "\n"
      ]
    },
    {
      "cell_type": "code",
      "metadata": {
        "id": "abe31fd3"
      },
      "source": [
        "plt.figure(figsize=(10, 6))\n",
        "sns.scatterplot(x=\"Age\", y=\"Income\", hue=\"Gender\", data=df)\n",
        "plt.title('Income vs Age by Gender')\n",
        "plt.xlabel('Age')\n",
        "plt.ylabel('Income')\n",
        "plt.show()"
      ],
      "execution_count": null,
      "outputs": []
    },
    {
      "cell_type": "markdown",
      "metadata": {
        "id": "14d2b5c4"
      },
      "source": [
        "## Visualize Income Distribution with Violin Plots\n",
        "\n",
        "### Subtask:\n",
        "Create violin plots to show the distribution of income across different categories of age, gender, and fitness level."
      ]
    },
    {
      "cell_type": "markdown",
      "metadata": {
        "id": "027510f0"
      },
      "source": [
        "**Reasoning**:\n",
        "Generate a violin plot to visualize the distribution of 'Income' across different 'Gender' categories."
      ]
    },
    {
      "cell_type": "code",
      "metadata": {
        "id": "103145c6"
      },
      "source": [
        "plt.figure(figsize=(8, 6))\n",
        "sns.violinplot(x=\"Gender\", y=\"Income\", data=df)\n",
        "plt.title('Income Distribution by Gender')\n",
        "plt.xlabel('Gender')\n",
        "plt.ylabel('Income')\n",
        "plt.show()"
      ],
      "execution_count": null,
      "outputs": []
    },
    {
      "cell_type": "markdown",
      "metadata": {
        "id": "086e8806"
      },
      "source": [
        "**Reasoning**:\n",
        "Generate a violin plot to visualize the distribution of 'Income' across different 'Fitness' levels."
      ]
    },
    {
      "cell_type": "code",
      "metadata": {
        "id": "080ec71a"
      },
      "source": [
        "plt.figure(figsize=(8, 6))\n",
        "sns.violinplot(x=\"Fitness\", y=\"Income\", data=df)\n",
        "plt.title('Income Distribution by Fitness Level')\n",
        "plt.xlabel('Fitness Level')\n",
        "plt.ylabel('Income')\n",
        "plt.show()"
      ],
      "execution_count": null,
      "outputs": []
    },
    {
      "cell_type": "markdown",
      "metadata": {
        "id": "8485a5b7"
      },
      "source": [
        "**Reasoning**:\n",
        "Generate a violin plot to visualize the distribution of 'Income' across different 'Age' groups. Since age is a continuous variable, we can categorize it into bins for the violin plot."
      ]
    },
    {
      "cell_type": "code",
      "metadata": {
        "id": "b0dac6f3"
      },
      "source": [
        "# Create age bins\n",
        "df['AgeGroup'] = pd.cut(df['Age'], bins=[18, 25, 35, 45, 50], labels=['18-25', '26-35', '36-45', '46-50'], right=False)\n",
        "\n",
        "plt.figure(figsize=(10, 6))\n",
        "sns.violinplot(x=\"AgeGroup\", y=\"Income\", data=df)\n",
        "plt.title('Income Distribution by Age Group')\n",
        "plt.xlabel('Age Group')\n",
        "plt.ylabel('Income')\n",
        "plt.show()"
      ],
      "execution_count": null,
      "outputs": []
    },
    {
      "cell_type": "markdown",
      "metadata": {
        "id": "f7287aad"
      },
      "source": [
        "## Visualize income distribution by fitness level\n",
        "\n",
        "### Subtask:\n",
        "Create visualizations to show how income is distributed across different fitness levels.\n"
      ]
    },
    {
      "cell_type": "markdown",
      "metadata": {
        "id": "ca1f89cd"
      },
      "source": [
        "**Reasoning**:\n",
        "Create a box plot to visualize the distribution of 'Income' for each 'Fitness' level with appropriate labels and title.\n",
        "\n"
      ]
    },
    {
      "cell_type": "code",
      "metadata": {
        "id": "45167677"
      },
      "source": [
        "plt.figure(figsize=(8, 6))\n",
        "sns.boxplot(x=\"Fitness\", y=\"Income\", data=df)\n",
        "plt.title('Income Distribution by Fitness Level')\n",
        "plt.xlabel('Fitness Level')\n",
        "plt.ylabel('Income')\n",
        "plt.show()"
      ],
      "execution_count": null,
      "outputs": []
    },
    {
      "cell_type": "markdown",
      "metadata": {
        "id": "db39a1e2"
      },
      "source": [
        "## Visualize the relationship between age and income\n",
        "\n",
        "### Subtask:\n",
        "Create visualizations to explore the overall relationship between age and income.\n"
      ]
    },
    {
      "cell_type": "markdown",
      "metadata": {
        "id": "8addd040"
      },
      "source": [
        "**Reasoning**:\n",
        "Create a scatter plot to visualize the relationship between Age and Income.\n",
        "\n"
      ]
    },
    {
      "cell_type": "code",
      "metadata": {
        "id": "70cce847"
      },
      "source": [
        "plt.figure(figsize=(10, 6))\n",
        "sns.scatterplot(x=\"Age\", y=\"Income\", data=df)\n",
        "plt.title(\"Relationship between Age and Income\")\n",
        "plt.xlabel(\"Age\")\n",
        "plt.ylabel(\"Income\")\n",
        "plt.show()"
      ],
      "execution_count": null,
      "outputs": []
    },
    {
      "cell_type": "markdown",
      "metadata": {
        "id": "d2962578"
      },
      "source": [
        "## Explore relationships with multiple variables\n",
        "\n",
        "### Subtask:\n",
        "Use visualizations that can show the interplay of age, income, gender, and fitness simultaneously.\n"
      ]
    },
    {
      "cell_type": "markdown",
      "metadata": {
        "id": "f41ac999"
      },
      "source": [
        "**Reasoning**:\n",
        "Create a scatter plot to visualize the relationship between Age, Income, Gender, and Fitness level, incorporating hue for Gender and size for Fitness.\n",
        "\n"
      ]
    },
    {
      "cell_type": "code",
      "metadata": {
        "id": "bbce7342"
      },
      "source": [
        "plt.figure(figsize=(10, 6))\n",
        "sns.scatterplot(x=\"Age\", y=\"Income\", hue=\"Gender\", size=\"Fitness\", data=df)\n",
        "plt.title(\"Age, Income, Gender, and Fitness Level Relationship\")\n",
        "plt.xlabel(\"Age\")\n",
        "plt.ylabel(\"Income\")\n",
        "plt.show()"
      ],
      "execution_count": null,
      "outputs": []
    },
    {
      "cell_type": "markdown",
      "metadata": {
        "id": "bc0ca1d2"
      },
      "source": [
        "## Explore relationships with multiple variables\n",
        "\n",
        "### Subtask:\n",
        "Use visualizations that can show the interplay of age, income, gender, and fitness simultaneously."
      ]
    },
    {
      "cell_type": "markdown",
      "metadata": {
        "id": "76970a74"
      },
      "source": [
        "**Reasoning**:\n",
        "Create a scatter plot to visualize the relationship between Age, Income, Gender, and Fitness level, incorporating hue for Gender and size for Fitness."
      ]
    },
    {
      "cell_type": "code",
      "metadata": {
        "id": "57d30ab4"
      },
      "source": [
        "plt.figure(figsize=(10, 6))\n",
        "sns.scatterplot(x=\"Age\", y=\"Income\", hue=\"Gender\", size=\"Fitness\", data=df)\n",
        "plt.title(\"Age, Income, Gender, and Fitness Level Relationship\")\n",
        "plt.xlabel(\"Age\")\n",
        "plt.ylabel(\"Income\")\n",
        "plt.show()"
      ],
      "execution_count": null,
      "outputs": []
    },
    {
      "cell_type": "markdown",
      "metadata": {
        "id": "fd35524b"
      },
      "source": [
        "## Summary:\n",
        "\n",
        "### Data Analysis Key Findings\n",
        "\n",
        "*   The scatter plot of Income vs Age by Gender suggests that while there is variation, there isn't a clearly defined linear relationship between age and income for either gender.\n",
        "*   The box plot indicates that individuals with higher fitness levels tend to have higher median incomes. There is a noticeable increase in the median income as the fitness level increases from 1 to 3.\n",
        "*   The scatter plot of Age vs Income shows a wide spread of income levels across different age groups, without a strong linear correlation.\n",
        "*   A scatter plot combining Age, Income, Gender, and Fitness level visually represents that higher income individuals, particularly in older age groups, tend to have higher fitness levels, and this pattern appears to be present for both genders.\n",
        "\n",
        "### Insights or Next Steps\n",
        "\n",
        "*   Further analysis could involve statistical tests (e.g., ANOVA or regression analysis) to quantify the significance of the observed differences in income across fitness levels and to explore the combined effects of age, gender, and fitness on income.\n",
        "*   Investigating other potential factors in the dataset that might influence income, such as education level or occupation, could provide a more comprehensive understanding of income distribution.\n"
      ]
    },
    {
      "cell_type": "markdown",
      "metadata": {
        "id": "fc73f237"
      },
      "source": [
        "# Task\n",
        "Generate a heatmap using Plotly to visualize the average income based on age and fitness levels from the dataset at \"https://raw.githubusercontent.com/Premalatha-success/Datasets/refs/heads/main/CardioGoodFitness-1.csv\"."
      ]
    },
    {
      "cell_type": "markdown",
      "metadata": {
        "id": "f563863a"
      },
      "source": [
        "## Data preparation\n",
        "\n",
        "### Subtask:\n",
        "Bin the 'Age' and 'Fitness' columns into discrete categories.\n"
      ]
    },
    {
      "cell_type": "markdown",
      "metadata": {
        "id": "cc5c6b24"
      },
      "source": [
        "**Reasoning**:\n",
        "Create new columns for binned Age and Fitness levels using `pd.cut` with specified bins and labels.\n",
        "\n"
      ]
    },
    {
      "cell_type": "code",
      "metadata": {
        "id": "9e8f7b3c"
      },
      "source": [
        "df['Age_Bin'] = pd.cut(df['Age'], bins=[18, 30, 40, 50, np.inf], labels=['18-29', '30-39', '40-49', '50+'], right=False)\n",
        "df['Fitness_Bin'] = pd.cut(df['Fitness'], bins=[1, 3, 5, np.inf], labels=['1-2', '3-4', '5'], right=False)"
      ],
      "execution_count": null,
      "outputs": []
    },
    {
      "cell_type": "markdown",
      "metadata": {
        "id": "e6fc16bf"
      },
      "source": [
        "## Calculate average income\n",
        "\n",
        "### Subtask:\n",
        "Calculate the average income for each combination of age and fitness level bins.\n"
      ]
    },
    {
      "cell_type": "markdown",
      "metadata": {
        "id": "48020c4c"
      },
      "source": [
        "**Reasoning**:\n",
        "Calculate the average income for each combination of age and fitness level bins.\n",
        "\n"
      ]
    },
    {
      "cell_type": "code",
      "metadata": {
        "id": "d9f51148"
      },
      "source": [
        "avg_income_df = df.groupby(['Age_Bin', 'Fitness_Bin'])['Income'].mean().reset_index()\n",
        "display(avg_income_df)"
      ],
      "execution_count": null,
      "outputs": []
    },
    {
      "cell_type": "markdown",
      "metadata": {
        "id": "f193ca18"
      },
      "source": [
        "## Reshape data for heatmap\n",
        "\n",
        "### Subtask:\n",
        "Pivot the data to create a matrix suitable for a heatmap, with age bins as rows and fitness levels as columns.\n"
      ]
    },
    {
      "cell_type": "markdown",
      "metadata": {
        "id": "89e65d09"
      },
      "source": [
        "**Reasoning**:\n",
        "Pivot the average income data to prepare it for a heatmap.\n",
        "\n"
      ]
    },
    {
      "cell_type": "code",
      "metadata": {
        "id": "65b75e4a"
      },
      "source": [
        "heatmap_data = avg_income_df.pivot(index='Age_Bin', columns='Fitness_Bin', values='Income')\n",
        "display(heatmap_data)"
      ],
      "execution_count": null,
      "outputs": []
    },
    {
      "cell_type": "markdown",
      "metadata": {
        "id": "aa8037a7"
      },
      "source": [
        "## Create heatmap\n",
        "\n",
        "### Subtask:\n",
        "Generate an interactive heatmap using Plotly to visualize the average income based on age and fitness levels.\n"
      ]
    },
    {
      "cell_type": "markdown",
      "metadata": {
        "id": "31c28ff3"
      },
      "source": [
        "**Reasoning**:\n",
        "Generate an interactive heatmap using Plotly to visualize the average income based on age and fitness levels.\n",
        "\n"
      ]
    },
    {
      "cell_type": "code",
      "metadata": {
        "id": "f940cf25"
      },
      "source": [
        "import plotly.express as px\n",
        "\n",
        "fig = px.imshow(heatmap_data,\n",
        "                 x=heatmap_data.columns,\n",
        "                 y=heatmap_data.index,\n",
        "                 color_continuous_scale=\"Viridis\",\n",
        "                 title='Average Income by Age and Fitness Level',\n",
        "                 text_auto=True)\n",
        "fig.show()"
      ],
      "execution_count": null,
      "outputs": []
    },
    {
      "cell_type": "markdown",
      "metadata": {
        "id": "9973682a"
      },
      "source": [
        "## Summary:\n",
        "\n",
        "### Data Analysis Key Findings\n",
        "\n",
        "* The average income was calculated for different combinations of age and fitness levels.\n",
        "* The data was successfully reshaped into a matrix format with age bins as rows and fitness levels as columns, suitable for a heatmap visualization.\n",
        "* The heatmap visualizes the average income, showing variations across different age groups and fitness levels. For example, the average income for the \"30-39\" age group with a \"5\" fitness level is approximately \\$74,821.\n",
        "\n",
        "### Insights or Next Steps\n",
        "\n",
        "* The heatmap visually highlights potential correlations between age, fitness level, and income, suggesting that higher fitness levels might be associated with higher average incomes, particularly in certain age brackets.\n",
        "* Further analysis could involve investigating the statistical significance of these observed differences in average income and exploring other factors that might influence income in this dataset."
      ]
    },
    {
      "cell_type": "markdown",
      "metadata": {
        "id": "91a25978"
      },
      "source": [
        "**Reasoning**:\n",
        "Correct the function call to use `plotly.express.imshow` for creating the heatmap, as `plotly.express.heatmap` is not a valid function.\n",
        "\n"
      ]
    },
    {
      "cell_type": "code",
      "metadata": {
        "id": "t_WvjsqB5FMe"
      },
      "source": [
        "import plotly.express as px\n",
        "\n",
        "fig = px.imshow(heatmap_data,\n",
        "                 x=heatmap_data.columns,\n",
        "                 y=heatmap_data.index,\n",
        "                 color_continuous_scale=\"Viridis\",\n",
        "                 title='Average Income by Age and Fitness Level',\n",
        "                 text_auto=True)\n",
        "fig.show()"
      ],
      "execution_count": null,
      "outputs": []
    },
    {
      "cell_type": "markdown",
      "metadata": {
        "id": "8085f157"
      },
      "source": [
        "## Summary:\n",
        "\n",
        "### Data Analysis Key Findings\n",
        "\n",
        "* The average income was calculated for different combinations of age and fitness levels.\n",
        "* The data was successfully reshaped into a matrix format with age bins as rows and fitness levels as columns, suitable for a heatmap visualization.\n",
        "* The heatmap visualizes the average income, showing variations across different age groups and fitness levels. For example, the average income for the \"30-39\" age group with a \"5\" fitness level is approximately \\$74,821.\n",
        "\n",
        "### Insights or Next Steps\n",
        "\n",
        "* The heatmap visually highlights potential correlations between age, fitness level, and income, suggesting that higher fitness levels might be associated with higher average incomes, particularly in certain age brackets.\n",
        "* Further analysis could involve investigating the statistical significance of these observed differences in average income and exploring other factors that might influence income in this dataset.\n"
      ]
    }
  ]
}