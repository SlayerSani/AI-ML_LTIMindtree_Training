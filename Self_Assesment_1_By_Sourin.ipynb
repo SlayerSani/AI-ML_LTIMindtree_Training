{
  "nbformat": 4,
  "nbformat_minor": 0,
  "metadata": {
    "colab": {
      "private_outputs": true,
      "provenance": []
    },
    "kernelspec": {
      "name": "python3",
      "display_name": "Python 3"
    },
    "language_info": {
      "name": "python"
    }
  },
  "cells": [
    {
      "cell_type": "code",
      "execution_count": null,
      "metadata": {
        "id": "QLqwGgeT-U7B"
      },
      "outputs": [],
      "source": [
        "import numpy as np\n",
        "import pandas as pd\n",
        "import matplotlib.pyplot as plt\n",
        "import seaborn as sns\n",
        "df=pd.read_csv(\"https://raw.githubusercontent.com/Premalatha-success/Datasets/refs/heads/main/loan_prediction.csv\")\n"
      ]
    },
    {
      "cell_type": "code",
      "source": [
        "df"
      ],
      "metadata": {
        "id": "vpxhk8RI_FUb"
      },
      "execution_count": null,
      "outputs": []
    },
    {
      "cell_type": "code",
      "source": [
        "df.head(7)"
      ],
      "metadata": {
        "id": "3G82HUtG_VjT"
      },
      "execution_count": null,
      "outputs": []
    },
    {
      "cell_type": "code",
      "source": [
        "df.tail(7)"
      ],
      "metadata": {
        "id": "LwukaTuS_c52"
      },
      "execution_count": null,
      "outputs": []
    },
    {
      "cell_type": "code",
      "source": [
        "df.sample()"
      ],
      "metadata": {
        "id": "zKcw9-cu_eU1"
      },
      "execution_count": null,
      "outputs": []
    },
    {
      "cell_type": "code",
      "source": [
        "df.shape"
      ],
      "metadata": {
        "id": "Qxet0rtt_k4R"
      },
      "execution_count": null,
      "outputs": []
    },
    {
      "cell_type": "code",
      "source": [
        "df.dtypes"
      ],
      "metadata": {
        "id": "YUuoK30Y_nra"
      },
      "execution_count": null,
      "outputs": []
    },
    {
      "cell_type": "code",
      "source": [
        "df.info()"
      ],
      "metadata": {
        "id": "SD5ubRwm_qaT"
      },
      "execution_count": null,
      "outputs": []
    },
    {
      "cell_type": "code",
      "source": [
        "df.describe()"
      ],
      "metadata": {
        "id": "dHFW2qEN_uPx"
      },
      "execution_count": null,
      "outputs": []
    },
    {
      "cell_type": "code",
      "source": [
        "df.describe(include=\"all\")"
      ],
      "metadata": {
        "id": "rH6BRCGp_xxC"
      },
      "execution_count": null,
      "outputs": []
    },
    {
      "cell_type": "code",
      "source": [
        "sns.countplot(x=\"Loan_Status\", data=df)"
      ],
      "metadata": {
        "id": "wyToS2hIADZa"
      },
      "execution_count": null,
      "outputs": []
    },
    {
      "cell_type": "code",
      "source": [
        "df[\"Loan_Status\"].value_counts()"
      ],
      "metadata": {
        "id": "uLaXYX_lAOFV"
      },
      "execution_count": null,
      "outputs": []
    },
    {
      "cell_type": "code",
      "source": [
        "sns.countplot(x=\"Gender\",data=df)"
      ],
      "metadata": {
        "id": "5bF2H-XrAUtL"
      },
      "execution_count": null,
      "outputs": []
    },
    {
      "cell_type": "code",
      "source": [
        "sns.countplot(x=\"Married\",data=df)"
      ],
      "metadata": {
        "id": "3vKqSkhkAe4r"
      },
      "execution_count": null,
      "outputs": []
    },
    {
      "cell_type": "code",
      "source": [
        "sns.countplot(x=\"Self_Employed\",hue=\"Education\",data=df)"
      ],
      "metadata": {
        "id": "YEEvw7twAnUX"
      },
      "execution_count": null,
      "outputs": []
    },
    {
      "cell_type": "code",
      "source": [
        "sns.countplot(x=\"ApplicantIncome\",hue=\"Married\",data=df)"
      ],
      "metadata": {
        "id": "ukudnVdCA0Ef"
      },
      "execution_count": null,
      "outputs": []
    },
    {
      "cell_type": "code",
      "source": [
        "### Product by Credit_History\n",
        "sns.boxplot(x=\"Loan_Status\", y=\"Credit_History\", data=df)"
      ],
      "metadata": {
        "id": "aDg1l1rMBcX3"
      },
      "execution_count": null,
      "outputs": []
    },
    {
      "cell_type": "code",
      "source": [
        "### Product by Education\n",
        "sns.boxplot(x=\"Credit_History\", y=\"Loan_Status\",hue=\"Married\", data=df)"
      ],
      "metadata": {
        "id": "uMVqDjd4Bopf"
      },
      "execution_count": null,
      "outputs": []
    },
    {
      "cell_type": "code",
      "source": [
        "sns.swarmplot(x=\"Credit_History\",y=\"Loan_Status\",data=df)"
      ],
      "metadata": {
        "id": "6vPqLNliCDwD"
      },
      "execution_count": null,
      "outputs": []
    },
    {
      "cell_type": "code",
      "source": [
        "sns.swarmplot(x=\"Gender\",y=\"Credit_History\",data=df)"
      ],
      "metadata": {
        "id": "7Eots4eLCWHC"
      },
      "execution_count": null,
      "outputs": []
    },
    {
      "cell_type": "code",
      "source": [
        "sns.swarmplot(x=\"Loan_Amount_Term\",y=\"Credit_History\",data=df)"
      ],
      "metadata": {
        "id": "WF1IHcmdCmlW"
      },
      "execution_count": null,
      "outputs": []
    },
    {
      "cell_type": "code",
      "source": [
        "sns.boxplot(x=\"Loan_ID\", y=\"Credit_History\",hue=\"Loan_Status\", data=df)"
      ],
      "metadata": {
        "id": "Wez4GsuEDBiv"
      },
      "execution_count": null,
      "outputs": []
    },
    {
      "cell_type": "code",
      "metadata": {
        "id": "01f2f5e3"
      },
      "source": [
        "sns.pairplot(df[['Credit_History', 'Loan_Status', 'Loan_ID']])\n",
        "plt.show()"
      ],
      "execution_count": null,
      "outputs": []
    },
    {
      "cell_type": "code",
      "metadata": {
        "id": "e32d14a4"
      },
      "source": [
        "# Select only the columns of interest\n",
        "columns_to_plot = ['Credit_History', 'Loan_Status'] + list(df.columns.drop(['Credit_History', 'Loan_Status', 'Loan_ID']))\n",
        "\n",
        "# Generate the pair plot\n",
        "sns.pairplot(df[columns_to_plot], hue='Loan_Status')\n",
        "plt.show()"
      ],
      "execution_count": null,
      "outputs": []
    },
    {
      "cell_type": "code",
      "source": [
        "### Loan will be approved or not (o/p => Loan_Status)\n",
        "### Import the packages\n",
        "import numpy as np\n",
        "import pandas as pd\n",
        "import matplotlib.pyplot as plt\n",
        "import seaborn as sns\n",
        "df=pd.read_csv(\"https://raw.githubusercontent.com/Premalatha-success/Datasets/refs/heads/main/loan_prediction.csv\")\n"
      ],
      "metadata": {
        "id": "m2XGPnn9E0xh"
      },
      "execution_count": null,
      "outputs": []
    },
    {
      "cell_type": "code",
      "source": [
        "df"
      ],
      "metadata": {
        "collapsed": true,
        "id": "MkQJSQ4VFI6a"
      },
      "execution_count": null,
      "outputs": []
    },
    {
      "cell_type": "code",
      "source": [
        "df.info()"
      ],
      "metadata": {
        "collapsed": true,
        "id": "YKJYFIiXFXIc"
      },
      "execution_count": null,
      "outputs": []
    },
    {
      "cell_type": "code",
      "source": [
        "df.describe()"
      ],
      "metadata": {
        "collapsed": true,
        "id": "MQux9hN0FdHx"
      },
      "execution_count": null,
      "outputs": []
    },
    {
      "cell_type": "code",
      "source": [
        "df.hist(figsize=(20,20))"
      ],
      "metadata": {
        "collapsed": true,
        "id": "QsVxWTwUFlF9"
      },
      "execution_count": null,
      "outputs": []
    },
    {
      "cell_type": "code",
      "source": [
        "df.skew(numeric_only=True)"
      ],
      "metadata": {
        "collapsed": true,
        "id": "A_6RBTFnFyMQ"
      },
      "execution_count": null,
      "outputs": []
    },
    {
      "cell_type": "code",
      "source": [
        "df.boxplot()"
      ],
      "metadata": {
        "collapsed": true,
        "id": "a4tx3n86GAQI"
      },
      "execution_count": null,
      "outputs": []
    },
    {
      "cell_type": "code",
      "source": [
        "# df.countplot(x=\"Loan_Status\",hue=\"Gender\",data=df)"
      ],
      "metadata": {
        "id": "IpaxIZ3XGLsd"
      },
      "execution_count": null,
      "outputs": []
    },
    {
      "cell_type": "code",
      "source": [
        "### DATA PREPRATION\n",
        "\n",
        "### MISSING VALUE\n",
        "### DROP IGNIFICATICANT COLUMN\n",
        "### CATEGORIAL ---> NUMERICAL (ENCODING)\n",
        "\n",
        "\n",
        "### MISSING VALUES --->"
      ],
      "metadata": {
        "id": "LSUKMrrqGu-u"
      },
      "execution_count": null,
      "outputs": []
    },
    {
      "cell_type": "code",
      "source": [
        "df.isnull().sum()"
      ],
      "metadata": {
        "id": "AJb8_nHrHkIT"
      },
      "execution_count": null,
      "outputs": []
    },
    {
      "cell_type": "code",
      "source": [
        "med_amount=df[\"LoanAmount\"].median()\n",
        "med_amount"
      ],
      "metadata": {
        "id": "a7qgLZWtH0h6"
      },
      "execution_count": null,
      "outputs": []
    },
    {
      "cell_type": "code",
      "source": [
        "df[\"LoanAmount\"]=df[\"LoanAmount\"].replace(np.nan,med_amount)"
      ],
      "metadata": {
        "id": "IQeUBhoTINZf"
      },
      "execution_count": null,
      "outputs": []
    },
    {
      "cell_type": "code",
      "source": [
        "df.isnull().sum()"
      ],
      "metadata": {
        "collapsed": true,
        "id": "560xklNnIZ9q"
      },
      "execution_count": null,
      "outputs": []
    },
    {
      "cell_type": "code",
      "source": [
        "## Loan_Amount_Term and Credit History"
      ],
      "metadata": {
        "id": "BvfYVSaOIvB3"
      },
      "execution_count": null,
      "outputs": []
    },
    {
      "cell_type": "code",
      "source": [
        "med_Loan_Amount_Term=df[\"Loan_Amount_Term\"].median()\n",
        "med_Loan_Amount_Term"
      ],
      "metadata": {
        "id": "lIvKn3EEI6-o"
      },
      "execution_count": null,
      "outputs": []
    },
    {
      "cell_type": "code",
      "source": [
        "df[\"Loan_Amount_Term\"]=df[\"Loan_Amount_Term\"].replace(np.nan,med_Loan_Amount_Term)\n"
      ],
      "metadata": {
        "id": "jCGa_3FbJOqH"
      },
      "execution_count": null,
      "outputs": []
    },
    {
      "cell_type": "code",
      "source": [
        "df.isnull().sum()"
      ],
      "metadata": {
        "id": "F4k1SYrHJZNg"
      },
      "execution_count": null,
      "outputs": []
    },
    {
      "cell_type": "code",
      "source": [
        "med_Credit_History=df[\"Credit_History\"].median()\n",
        "med_Credit_History"
      ],
      "metadata": {
        "id": "Z9Eku1R7Jcas"
      },
      "execution_count": null,
      "outputs": []
    },
    {
      "cell_type": "code",
      "source": [
        "df[\"Credit_History\"]=df[\"Credit_History\"].replace(np.nan,med_Credit_History)\n"
      ],
      "metadata": {
        "id": "jrV5zdxjJlkq"
      },
      "execution_count": null,
      "outputs": []
    },
    {
      "cell_type": "code",
      "source": [
        "df.isnull().sum()"
      ],
      "metadata": {
        "id": "Le3tA4TUJrVY"
      },
      "execution_count": null,
      "outputs": []
    },
    {
      "cell_type": "code",
      "source": [
        "mod_Gender=df[\"Gender\"].mode()[0]\n",
        "mod_Gender"
      ],
      "metadata": {
        "id": "3DPTPN2bKBUS"
      },
      "execution_count": null,
      "outputs": []
    },
    {
      "cell_type": "code",
      "source": [
        "df.isnull().sum()"
      ],
      "metadata": {
        "id": "tri4esDxKXjx"
      },
      "execution_count": null,
      "outputs": []
    },
    {
      "cell_type": "code",
      "source": [
        "df[\"Gender\"]=df[\"Gender\"].replace(np.nan,mod_Gender)"
      ],
      "metadata": {
        "id": "TAEoN6C0Kh86"
      },
      "execution_count": null,
      "outputs": []
    },
    {
      "cell_type": "code",
      "source": [
        "mod_Married=df[\"Married\"].mode()[0]\n",
        "mod_Married"
      ],
      "metadata": {
        "id": "m8q--H4sKpxr"
      },
      "execution_count": null,
      "outputs": []
    },
    {
      "cell_type": "code",
      "source": [
        "mod_Dependents=df[\"Dependents\"].mode()[0]\n",
        "mod_Dependents"
      ],
      "metadata": {
        "id": "y4xcINv-K9GO"
      },
      "execution_count": null,
      "outputs": []
    },
    {
      "cell_type": "code",
      "source": [
        "mod_Self_Employed=df[\"Self_Employed\"].mode()[0]\n",
        "mod_Self_Employed"
      ],
      "metadata": {
        "id": "jKaDct_MLBtS"
      },
      "execution_count": null,
      "outputs": []
    },
    {
      "cell_type": "code",
      "source": [
        "df[\"Married\"]=df[\"Married\"].replace(np.nan,mod_Married)\n",
        "df[\"Dependents\"]=df[\"Dependents\"].replace(np.nan,mod_Dependents)\n",
        "df[\"Self_Employed\"]=df[\"Self_Employed\"].replace(np.nan,mod_Self_Employed)"
      ],
      "metadata": {
        "id": "YdCDOzXtLDsa"
      },
      "execution_count": null,
      "outputs": []
    },
    {
      "cell_type": "code",
      "source": [
        "df.isnull().sum()"
      ],
      "metadata": {
        "id": "cW-JUnPHLiEm"
      },
      "execution_count": null,
      "outputs": []
    },
    {
      "cell_type": "code",
      "source": [
        "### Drop insignificant Column\n",
        "df=df.drop([\"Loan_ID\"],axis=1)"
      ],
      "metadata": {
        "id": "opOKkvSsLn0m"
      },
      "execution_count": null,
      "outputs": []
    },
    {
      "cell_type": "code",
      "source": [
        "df.head()"
      ],
      "metadata": {
        "id": "in4O-voyNO_t"
      },
      "execution_count": null,
      "outputs": []
    },
    {
      "cell_type": "code",
      "source": [
        "### ENCODING\n",
        "\n",
        "from sklearn.preprocessing import LabelEncoder\n",
        "\n",
        "# Select categorical columns\n",
        "categorical_cols = df.select_dtypes(include='object').columns\n",
        "\n",
        "# Initialize LabelEncoder\n",
        "label_encoder = LabelEncoder()\n",
        "\n",
        "# Apply label encoding to each categorical column\n",
        "for col in categorical_cols:\n",
        "    df[col] = label_encoder.fit_transform(df[col])\n",
        "\n",
        "display(df.head())"
      ],
      "metadata": {
        "id": "RS3WIqpsSwtv"
      },
      "execution_count": null,
      "outputs": []
    },
    {
      "cell_type": "code",
      "source": [
        "df.dtypes"
      ],
      "metadata": {
        "id": "mDPJn6zAT-x0"
      },
      "execution_count": null,
      "outputs": []
    },
    {
      "cell_type": "code",
      "source": [
        "df.isnull().sum()"
      ],
      "metadata": {
        "id": "1UePq_6FUHEM"
      },
      "execution_count": null,
      "outputs": []
    },
    {
      "cell_type": "code",
      "source": [
        "### MODELLING\n",
        "from sklearn.model_selection import train_test_split #split data into training and testing\n",
        "from sklearn.linear_model import LogisticRegression #model name"
      ],
      "metadata": {
        "id": "4mT5OwzMW8Pq"
      },
      "execution_count": null,
      "outputs": []
    },
    {
      "cell_type": "code",
      "source": [
        "Y=df[[\"Loan_Status\"]]\n",
        "X=df.drop(\"Loan_Status\",axis=1)\n",
        "\n",
        "X_train,X_test,Y_train,Y_test=train_test_split(X,Y,test_size=0.3)"
      ],
      "metadata": {
        "id": "vbLeANR5XSpF"
      },
      "execution_count": null,
      "outputs": []
    },
    {
      "cell_type": "code",
      "source": [
        "model_lr=LogisticRegression()\n",
        "model_lr.fit(X_train,Y_train)"
      ],
      "metadata": {
        "id": "xTtGJv9GXvIr"
      },
      "execution_count": null,
      "outputs": []
    },
    {
      "cell_type": "code",
      "source": [
        "model_lr.score(X_train,Y_train)"
      ],
      "metadata": {
        "id": "aoq8CJ_uYag0"
      },
      "execution_count": null,
      "outputs": []
    },
    {
      "cell_type": "code",
      "source": [
        "model_lr.score(X_test,Y_test)"
      ],
      "metadata": {
        "id": "PW-Ca-DZY7gD"
      },
      "execution_count": null,
      "outputs": []
    }
  ]
}