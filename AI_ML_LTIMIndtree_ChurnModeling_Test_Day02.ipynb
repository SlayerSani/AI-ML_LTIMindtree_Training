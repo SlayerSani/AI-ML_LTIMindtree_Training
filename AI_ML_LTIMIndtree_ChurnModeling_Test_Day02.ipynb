{
  "nbformat": 4,
  "nbformat_minor": 0,
  "metadata": {
    "colab": {
      "private_outputs": true,
      "provenance": []
    },
    "kernelspec": {
      "name": "python3",
      "display_name": "Python 3"
    },
    "language_info": {
      "name": "python"
    }
  },
  "cells": [
    {
      "cell_type": "code",
      "execution_count": null,
      "metadata": {
        "id": "UvTwqIG6ZsoK"
      },
      "outputs": [],
      "source": [
        "import numpy as np\n",
        "import pandas as pd\n",
        "import matplotlib.pyplot as plt\n",
        "import seaborn as sns\n",
        "df=pd.read_csv(\"https://raw.githubusercontent.com/Premalatha-success/Datasets/refs/heads/main/Churn_Modelling.csv\")"
      ]
    },
    {
      "cell_type": "code",
      "source": [
        "df.isnull().sum()"
      ],
      "metadata": {
        "id": "wRfEXCQwafxh"
      },
      "execution_count": null,
      "outputs": []
    },
    {
      "cell_type": "code",
      "source": [
        "### Drop insignificant Column\n",
        "df=df.drop([\"RowNumber\"],axis=1)"
      ],
      "metadata": {
        "id": "N0WjQFvLa92p"
      },
      "execution_count": null,
      "outputs": []
    },
    {
      "cell_type": "code",
      "source": [
        "### Drop insignificant Column\n",
        "df=df.drop([\"CustomerId\"],axis=1)"
      ],
      "metadata": {
        "id": "qLqvOWfQbFl7"
      },
      "execution_count": null,
      "outputs": []
    },
    {
      "cell_type": "code",
      "source": [
        "### Drop insignificant Column\n",
        "df=df.drop([\"Surname\"],axis=1)"
      ],
      "metadata": {
        "id": "jndsaPahbLwv"
      },
      "execution_count": null,
      "outputs": []
    },
    {
      "cell_type": "code",
      "source": [
        "### ENCODING\n",
        "\n",
        "from sklearn.preprocessing import LabelEncoder\n",
        "\n",
        "# Select categorical columns\n",
        "categorical_cols = df.select_dtypes(include='object').columns\n",
        "\n",
        "# Initialize LabelEncoder\n",
        "label_encoder = LabelEncoder()\n",
        "\n",
        "# Apply label encoding to each categorical column\n",
        "for col in categorical_cols:\n",
        "    df[col] = label_encoder.fit_transform(df[col])\n",
        "\n",
        "display(df.head())"
      ],
      "metadata": {
        "id": "UKsp2wCObSGp"
      },
      "execution_count": null,
      "outputs": []
    },
    {
      "cell_type": "code",
      "source": [
        "df.dtypes"
      ],
      "metadata": {
        "id": "43ZCfLkCbaUk"
      },
      "execution_count": null,
      "outputs": []
    },
    {
      "cell_type": "code",
      "source": [
        "df.isnull().sum()"
      ],
      "metadata": {
        "id": "ui5ioXa2bgAf"
      },
      "execution_count": null,
      "outputs": []
    },
    {
      "cell_type": "code",
      "source": [
        "### MODELLING\n",
        "from sklearn.model_selection import train_test_split #split data into training and testing\n",
        "from sklearn.linear_model import LogisticRegression #model name"
      ],
      "metadata": {
        "id": "4j0clWSkbj0e"
      },
      "execution_count": null,
      "outputs": []
    },
    {
      "cell_type": "code",
      "source": [
        "Y=df[[\"Exited\"]]\n",
        "X=df.drop(\"Exited\",axis=1)\n",
        "\n",
        "X_train,X_test,Y_train,Y_test=train_test_split(X,Y,test_size=0.3)"
      ],
      "metadata": {
        "id": "WrsiA7wnbnYs"
      },
      "execution_count": null,
      "outputs": []
    },
    {
      "cell_type": "code",
      "source": [
        "model_lr=LogisticRegression()\n",
        "model_lr.fit(X_train,Y_train)"
      ],
      "metadata": {
        "id": "2i39s_bEb3Dn"
      },
      "execution_count": null,
      "outputs": []
    },
    {
      "cell_type": "code",
      "source": [
        "model_lr.score(X_train,Y_train)"
      ],
      "metadata": {
        "id": "ZGRqVJOkb6TX"
      },
      "execution_count": null,
      "outputs": []
    },
    {
      "cell_type": "code",
      "source": [
        "model_lr.score(X_test,Y_test)"
      ],
      "metadata": {
        "id": "znj6RAbKb_MM"
      },
      "execution_count": null,
      "outputs": []
    }
  ]
}